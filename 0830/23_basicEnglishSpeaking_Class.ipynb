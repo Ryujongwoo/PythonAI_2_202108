{
 "cells": [
  {
   "cell_type": "code",
   "execution_count": 1,
   "id": "03c47a86",
   "metadata": {},
   "outputs": [],
   "source": [
    "import warnings\n",
    "warnings.filterwarnings(action='ignore')\n",
    "import requests\n",
    "from bs4 import BeautifulSoup"
   ]
  },
  {
   "cell_type": "code",
   "execution_count": 2,
   "id": "77666082",
   "metadata": {},
   "outputs": [],
   "source": [
    "# 1건의 대화 내용을 저장하는 클래스 => 질문과 답변이 한 쌍으로 저장되는 클래스\n",
    "class Conversation:\n",
    "    def __init__(self, question, answer):\n",
    "        self.question = question\n",
    "        self.answer = answer\n",
    "    def __str__(self):\n",
    "        return '질문: {}\\n답변: {}'.format(self.question, self.answer)"
   ]
  },
  {
   "cell_type": "code",
   "execution_count": 4,
   "id": "b3659b8d",
   "metadata": {},
   "outputs": [
    {
     "name": "stdout",
     "output_type": "stream",
     "text": [
      "질문: 너... 누구야??\n",
      "답변: 글쎄... 알아서 뭐하시려고...\n"
     ]
    }
   ],
   "source": [
    "c = Conversation('너... 누구야??', '글쎄... 알아서 뭐하시려고...')\n",
    "print(c)"
   ]
  },
  {
   "cell_type": "code",
   "execution_count": 7,
   "id": "51bc0a1f",
   "metadata": {},
   "outputs": [],
   "source": [
    "# 75개의 대화 주제와 세부 대화 내용의 url을 크롤링해서 리턴시키는 함수\n",
    "def getSubject():\n",
    "    targetSite = 'https://basicenglishspeaking.com/daily-english-conversation-topics/'\n",
    "    request = requests.get(targetSite)\n",
    "    html = request.text\n",
    "    soup = BeautifulSoup(html, 'html.parser')\n",
    "    \n",
    "    subjects = []\n",
    "    contentLink = [] # 세부 대화 내용의 url을 저장할 빈 리스트를 선언한다.\n",
    "    divs = soup.findAll('div', {'class': 'tcb-col'})\n",
    "    for div in divs:\n",
    "        chapter = div.findAll('a')\n",
    "        for a in chapter:\n",
    "            subjects.append(a.text)\n",
    "            # 세부 대화 내용의 url을 리스트에 추가한다.\n",
    "            # print(a.get('href'))\n",
    "            contentLink.append(a.get('href'))\n",
    "    \n",
    "    # 대화 주제와 대화 주제에 따른 세부 대화 내용의 url을 리턴시킨다.\n",
    "    # 리턴되는 데이터가 2개가 아니라 subjects, contentLink를 1개의 튜플로 리턴시킨다.\n",
    "    return subjects, contentLink"
   ]
  },
  {
   "cell_type": "code",
   "execution_count": 36,
   "id": "8c4932ce",
   "metadata": {},
   "outputs": [],
   "source": [
    "subjects, contentLink = getSubject()\n",
    "# for i in range(len(subjects)):\n",
    "    # print('{0:2d}. {1} - {2}'.format(i + 1, subjects[i], contentLink[i]))\n",
    "    \n",
    "# 대화 주제에 따른 모든 대화 내용을 저장할 빈 리스트를 선언한다.\n",
    "conversation = [] # Conversation 클래스 객체를 저장한다.\n",
    "\n",
    "i = 0 # 대화 주제의 개수를 카운트 하는 변수 => 인덱스\n",
    "# 대화 주제의 개수만큼 반복하며 각각의 대화 주제에 다른 대화 내용을 읽는다.\n",
    "for subject in subjects[:3]:\n",
    "    conversation.append('{0:2d}. {1} - {2}'.format(i + 1, subjects[i], contentLink[i]))\n",
    "    \n",
    "    # 대화 주제별로 대화 내용을 크롤링할 페이지를 요청한다.\n",
    "    request = requests.get(contentLink[i])\n",
    "    html = request.text\n",
    "    soup = BeautifulSoup(html, 'html.parser')\n",
    "    \n",
    "    # 대화 주제에 따른 대화 내용은 플레이 버튼(class 속성이 'sc_player_container1'인 div 태그)의 다음 형제이다.\n",
    "    divs = soup.findAll('div', {'class': 'sc_player_container1'})\n",
    "    \n",
    "    # 각각의 대호 주제에 따른 문장의 개수만큼 반복한다.\n",
    "    for div in divs:\n",
    "        # index() 메소드로 전체 중에서 인수로 지정한 객체의 index 번호를 얻어올 수 있다.\n",
    "        # divs.index(div) => 전체 버튼(divs)에서 특정 버튼(div)의 index 번호를 얻어온다.\n",
    "        # print(divs.index(div))\n",
    "        # index() 메소드 실행 결과가 짝수면 질문이고 홀수면 답변이다.\n",
    "        \n",
    "        # 크롤링할 데이터가 태그 내부에 작성된 것이 아니고 class 속성이 'sc_player_container1'인 div 태그의 다음 형제로\n",
    "        # 작성되어 있다.\n",
    "        # next_sibling => 다음 형제, prevoius_sibling => 이전 형제\n",
    "        if divs.index(div) % 2 == 0: # 질문인가?\n",
    "            # print('질문: {}'.format(div.next_sibling))\n",
    "            question = div.next_sibling\n",
    "        else:\n",
    "            # print('답변: {}'.format(div.next_sibling))\n",
    "            answer = div.next_sibling\n",
    "            \n",
    "            # Conversation 클래스 객체를 만드는 작업은 질문과 답변이 한 쌍이 되는 순간 실행한다.\n",
    "            # 질문과 답변이 한 쌍이 되었으므로 Conversation 클래스 객체를 생성하고 질문과 답변을 저장한다.\n",
    "            c = Conversation(question, answer)\n",
    "            # 질문과 답변이 한 쌍으로 저장된 Conversation 클래스 객체를 대화 내용을 기억하는 conversation 리스트에 저장한다.\n",
    "            conversation.append(c)\n",
    "    \n",
    "    # 대화 주제 1건이 처리 완료되면 다음 대화를 처리하기 위해서 i를 1증가시킨다.\n",
    "    i += 1"
   ]
  },
  {
   "cell_type": "code",
   "execution_count": 37,
   "id": "41d13d62",
   "metadata": {},
   "outputs": [
    {
     "name": "stdout",
     "output_type": "stream",
     "text": [
      " 1. Family - https://basicenglishspeaking.com/family/\n",
      "질문: How many people are there in your family?\n",
      "답변: There are 5 people in my family: my father, mother, brother, sister, and me.\n",
      "질문: Does your family live in a house or an apartment?\n",
      "답변: We live in a house in the countryside.\n",
      "질문: What does your father do?\n",
      "답변: My father is a doctor. He works at the local hospital.\n",
      "질문: How old is your mother?\n",
      "답변: She is 40 years old, 1 year younger than my father.\n",
      "질문: Do you have any siblings? What’s his/her name?\n",
      "답변: Yes, I do. I have 1 elder brother, David, and 1 younger sister, Mary.\n",
      "질문: Are you the oldest amongst your brothers and sisters?\n",
      "답변: No, I’m not. I’m the second child in my family.\n",
      "질문: What does your mother/father like?\n",
      "답변: My father likes playing football and my mother likes cooking.\n",
      "질문: Do your parents let you stay out late?\n",
      "답변: Of course not. They always ask me to get home before 10 pm each night.\n",
      "질문: Do you stay with your parents?\n",
      "답변: Right now, no, but I used to.\n",
      "질문: Does your family usually have dinner together?\n",
      "답변: Yes, we do. My mom always prepares delicious meals for us.\n",
      " 2. Restaurant - https://basicenglishspeaking.com/restaurant/\n",
      "질문: How often do you eat out? Who do you go with?\n",
      "답변: I often eat out on weekends, when I hang out with my friends.\n",
      "질문: What restaurant do you usually visit?\n",
      "답변: Well, there are not many restaurants in my neighborhood, so my best choice is the deli in convenient stores like the Circle K, Mini-Stop, B-smart.\n",
      "질문: What type of food do you enjoy to eat? Western or Asian?\n",
      "답변: I’m interested in Asian food, Western food is not my thing.\n",
      "질문: How much do you usually pay when you eat out?\n",
      "답변: It’s not very expensive, just around $5 for each meal.\n",
      "질문: Do you enjoy spicy food?\n",
      "답변: Yes, I do, especially on cold days.\n",
      "질문: Are the servers there friendly to you?\n",
      "답변: Yes, they are. Most of them are really helpful.\n",
      "질문: Have you ever tried Italian food?\n",
      "답변: Yes, at least once, when I was in my friend’s wedding party.\n",
      "질문: Are you concerned about calories when eating out?\n",
      "답변: Yes, I am. I’m on diet now, so this really matters to me.\n",
      "질문: Are fast food restaurants like KFC or McDonald’s famous in your country?\n",
      "답변: Yes, they are. The youth in my country are big fans of fast food.\n",
      "질문: Do you often drink alcohol when eating out?\n",
      "답변: No, not often. Just when I have parties with my friends.\n",
      " 3. Books - https://basicenglishspeaking.com/books/\n",
      "질문: How often do you read books?\n",
      "답변: I read books almost every night before I go to bed.\n",
      "질문: What’s your favorite type of book?\n",
      "답변: I love reading about different cultures.\n",
      "질문: What can you learn from books?\n",
      "답변: Books can broaden my horizon about thousands of things around the world, and books are also my best friends.\n",
      "질문: Where do you read books?\n",
      "답변: I read books at home, sometimes in the library.\n",
      "질문: What’s the most interesting book you have ever read?\n",
      "답변: I think that would be \n",
      "질문: How long does it take you to finish a book?\n",
      "답변: Well, it depends on the length of the book, but it usually takes me a week to finish a 300-page book.\n",
      "질문: Do you usually bring books with you when you travel?\n",
      "답변: Yes, I do. When I’m at the airport or bus station, I read books to kill time.\n",
      "질문: Is there any bookstore or library in your area?\n",
      "답변: Unfortunately, there are none near my house. The nearest one is 3 kilometers away.\n"
     ]
    }
   ],
   "source": [
    "for c in conversation:\n",
    "    print(c)"
   ]
  },
  {
   "cell_type": "code",
   "execution_count": null,
   "id": "9500fa16",
   "metadata": {},
   "outputs": [],
   "source": []
  },
  {
   "cell_type": "code",
   "execution_count": null,
   "id": "5b2db2ca",
   "metadata": {},
   "outputs": [],
   "source": []
  },
  {
   "cell_type": "code",
   "execution_count": null,
   "id": "360d8816",
   "metadata": {},
   "outputs": [],
   "source": []
  },
  {
   "cell_type": "code",
   "execution_count": null,
   "id": "d00e4b4a",
   "metadata": {},
   "outputs": [],
   "source": []
  },
  {
   "cell_type": "code",
   "execution_count": null,
   "id": "ffd66822",
   "metadata": {},
   "outputs": [],
   "source": []
  },
  {
   "cell_type": "code",
   "execution_count": null,
   "id": "9cc43014",
   "metadata": {},
   "outputs": [],
   "source": []
  },
  {
   "cell_type": "code",
   "execution_count": null,
   "id": "ad24649d",
   "metadata": {},
   "outputs": [],
   "source": []
  },
  {
   "cell_type": "code",
   "execution_count": null,
   "id": "5175c82d",
   "metadata": {},
   "outputs": [],
   "source": []
  }
 ],
 "metadata": {
  "kernelspec": {
   "display_name": "Python 3",
   "language": "python",
   "name": "python3"
  },
  "language_info": {
   "codemirror_mode": {
    "name": "ipython",
    "version": 3
   },
   "file_extension": ".py",
   "mimetype": "text/x-python",
   "name": "python",
   "nbconvert_exporter": "python",
   "pygments_lexer": "ipython3",
   "version": "3.6.8"
  }
 },
 "nbformat": 4,
 "nbformat_minor": 5
}

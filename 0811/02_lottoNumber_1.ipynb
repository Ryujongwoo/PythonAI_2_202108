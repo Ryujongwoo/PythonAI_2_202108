{
 "cells": [
  {
   "cell_type": "code",
   "execution_count": 1,
   "id": "4fecf412",
   "metadata": {},
   "outputs": [],
   "source": [
    "import random # randrange() 메소드를 사용하기 위해 import 시킨다.\n",
    "import time   # sleep() 메소드를 사용하기 위해 import 시킨다."
   ]
  },
  {
   "cell_type": "code",
   "execution_count": 46,
   "id": "dfa1902a",
   "metadata": {},
   "outputs": [
    {
     "name": "stdout",
     "output_type": "stream",
     "text": [
      "1등 번호: 17 27 09 16 26 36 보너스 번호: 31\n"
     ]
    }
   ],
   "source": [
    "# 로또 추첨기 역할을 할 리스트를 만들고 1 ~ 45로 초기화시킨다.\n",
    "# lotto = []\n",
    "# for i in range(1, 46):\n",
    "    # lotto.append(i)\n",
    "lotto = [i for i in range(1, 46)] # i가 45번 반복되는 리스트를 만든다.\n",
    "# print(lotto)\n",
    "\n",
    "'''\n",
    "# 섞기전 상태를 1줄에 숫자 10개씩 출력한다.\n",
    "for i in range(45):\n",
    "    print('{0:2d} '.format(lotto[i]), end='')\n",
    "    if (i + 1) % 10 == 0:\n",
    "        print()\n",
    "    # ===== if\n",
    "# ===== for\n",
    "print('\\n' + '=' * 30 + ' 섞기전')\n",
    "'''\n",
    "\n",
    "# 섞는다.\n",
    "# lotto[0]와(고정) lotto[1] ~ lotto[44] 중에서 랜덤한 위치의 값을 선택해서 두 기억장소의 데이터를 교환한다.\n",
    "for i in range(1000000):\n",
    "    # lotto[1] ~ lotto[44] 중에서 랜덤한 위치의 값을 선택한다.\n",
    "    # randrange(a, b) => a 부터 b - 1 사이에서 랜덤한 숫자를 선택한다.\n",
    "    r = random.randrange(1, 45)\n",
    "    # lotto[0]와 lotto[r]에 저장된 데이터를 교환한다.\n",
    "    # temp = lotto[0]\n",
    "    # lotto[0] = lotto[r]\n",
    "    # lotto[r] = temp\n",
    "    lotto[0], lotto[r] = lotto[r], lotto[0]\n",
    "\n",
    "'''\n",
    "# 섞은후 상태를 1줄에 숫자 10개씩 출력한다.\n",
    "for i in range(45):\n",
    "    print('{0:2d} '.format(lotto[i]), end='')\n",
    "    if (i + 1) % 10 == 0:\n",
    "        print()\n",
    "    # ===== if\n",
    "# ===== for\n",
    "print('\\n' + '=' * 30 + ' 섞은후')\n",
    "'''\n",
    "\n",
    "# 1등 번호와 보너스 번호를 출력한다.\n",
    "print('1등 번호: ', end='')\n",
    "for i in range(6):\n",
    "    print('{0:02d} '.format(lotto[i]), end='')\n",
    "    # time 모듈의 sleep() 메소드는 인수로 지정한 시간만큼 프로그램을 일시적으로 멈춘다.\n",
    "    # sleep() 메소드에 인수로 지정하는 시간은 '초' 단위로 지정한다.\n",
    "    time.sleep(1)\n",
    "print('보너스 번호: {0:02d}'.format(lotto[6]))"
   ]
  },
  {
   "cell_type": "code",
   "execution_count": 48,
   "id": "603807ea",
   "metadata": {},
   "outputs": [
    {
     "name": "stdout",
     "output_type": "stream",
     "text": [
      "a = 3, b = 4\n",
      "a = 4, b = 3\n",
      "a = 3, b = 4\n",
      "a = 4, b = 3\n",
      "a = 3, b = 4\n"
     ]
    }
   ],
   "source": [
    "a = 3\n",
    "b = 4\n",
    "print('a = {}, b = {}'.format(a, b))\n",
    "temp = a\n",
    "a = b\n",
    "b = temp\n",
    "print('a = {}, b = {}'.format(a, b))\n",
    "[a, b] = [b, a]\n",
    "print('a = {}, b = {}'.format(a, b))\n",
    "(a, b) = (b, a)\n",
    "print('a = {}, b = {}'.format(a, b))\n",
    "a, b = b, a\n",
    "print('a = {}, b = {}'.format(a, b))\n",
    "# http://www.pythontutor.com/"
   ]
  },
  {
   "cell_type": "code",
   "execution_count": 52,
   "id": "05303096",
   "metadata": {},
   "outputs": [
    {
     "name": "stdout",
     "output_type": "stream",
     "text": [
      "흰공: 21 20 47 26 40 빨강공: 26\n"
     ]
    }
   ],
   "source": [
    "# 미국 로또 => powerball, 1 ~ 69 => 5개, 1 ~ 26 => 1개\n",
    "lotto = [i for i in range(1, 70)]\n",
    "for i in range(1000000):\n",
    "    r = random.randrange(1, 69)\n",
    "    lotto[0], lotto[r] = lotto[r], lotto[0]\n",
    "print('흰공: ', end='')\n",
    "for i in range(5):\n",
    "    print('{0:02d} '.format(lotto[i]), end='')\n",
    "    time.sleep(1)\n",
    "print('빨강공: {0:02d}'.format(random.randrange(1, 27)))"
   ]
  },
  {
   "cell_type": "code",
   "execution_count": null,
   "id": "7a63a18d",
   "metadata": {},
   "outputs": [],
   "source": []
  },
  {
   "cell_type": "code",
   "execution_count": null,
   "id": "2714a305",
   "metadata": {},
   "outputs": [],
   "source": []
  },
  {
   "cell_type": "code",
   "execution_count": null,
   "id": "70c4156c",
   "metadata": {},
   "outputs": [],
   "source": []
  },
  {
   "cell_type": "code",
   "execution_count": null,
   "id": "04ebcb5a",
   "metadata": {},
   "outputs": [],
   "source": []
  },
  {
   "cell_type": "code",
   "execution_count": null,
   "id": "d57bea86",
   "metadata": {},
   "outputs": [],
   "source": []
  },
  {
   "cell_type": "code",
   "execution_count": null,
   "id": "f33b1d9e",
   "metadata": {},
   "outputs": [],
   "source": []
  },
  {
   "cell_type": "code",
   "execution_count": null,
   "id": "f80cdc6d",
   "metadata": {},
   "outputs": [],
   "source": []
  }
 ],
 "metadata": {
  "kernelspec": {
   "display_name": "Python 3",
   "language": "python",
   "name": "python3"
  },
  "language_info": {
   "codemirror_mode": {
    "name": "ipython",
    "version": 3
   },
   "file_extension": ".py",
   "mimetype": "text/x-python",
   "name": "python",
   "nbconvert_exporter": "python",
   "pygments_lexer": "ipython3",
   "version": "3.6.8"
  }
 },
 "nbformat": 4,
 "nbformat_minor": 5
}

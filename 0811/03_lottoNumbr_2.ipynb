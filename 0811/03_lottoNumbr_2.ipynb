{
 "cells": [
  {
   "cell_type": "code",
   "execution_count": 1,
   "id": "5b5afd89",
   "metadata": {},
   "outputs": [],
   "source": [
    "import random"
   ]
  },
  {
   "cell_type": "code",
   "execution_count": 23,
   "id": "e0a2953b",
   "metadata": {},
   "outputs": [
    {
     "name": "stdout",
     "output_type": "stream",
     "text": [
      "11 {11}\n",
      "31 {11, 31}\n",
      "12 {11, 12, 31}\n",
      "17 {17, 11, 12, 31}\n",
      " 2 {2, 11, 12, 17, 31}\n",
      "41 {2, 41, 11, 12, 17, 31}\n",
      "1등 번호: {2, 41, 11, 12, 17, 31}\n",
      "31\n",
      "44\n",
      "보너스 번호: 44\n"
     ]
    }
   ],
   "source": [
    "# 로또 번호를 기억할 빈 set을 만든다.\n",
    "lotto = set()\n",
    "# print(type(lotto))\n",
    "\n",
    "# 1등 번호\n",
    "# 중복되는 숫자가 몇 번 발생될지 모르기 때문에 무한루프를 돌려서 처리한다.\n",
    "while True:\n",
    "    number = random.randrange(1, 46)\n",
    "    lotto.add(number)\n",
    "    print('{0:2d} {1}'.format(number, lotto))\n",
    "    # set에 중복되지 않는 숫자가 6개 저장되면 무한루프를 탈출시킨다.\n",
    "    if len(lotto) == 6:\n",
    "        break\n",
    "# ===== while\n",
    "print('1등 번호: {}'.format(lotto))\n",
    "\n",
    "# 보너스 번호\n",
    "while True:\n",
    "    bonus = random.randrange(1, 46)\n",
    "    print(bonus)\n",
    "    # 보너스 번호가 로또 번호에 없을 경우 무한루프를 탈출시킨다.\n",
    "    if bonus not in lotto:\n",
    "        break\n",
    "# ===== while\n",
    "print('보너스 번호: {}'.format(bonus))"
   ]
  },
  {
   "cell_type": "code",
   "execution_count": null,
   "id": "3f6a080d",
   "metadata": {},
   "outputs": [],
   "source": []
  },
  {
   "cell_type": "code",
   "execution_count": null,
   "id": "81c2432d",
   "metadata": {},
   "outputs": [],
   "source": []
  }
 ],
 "metadata": {
  "kernelspec": {
   "display_name": "Python 3",
   "language": "python",
   "name": "python3"
  },
  "language_info": {
   "codemirror_mode": {
    "name": "ipython",
    "version": 3
   },
   "file_extension": ".py",
   "mimetype": "text/x-python",
   "name": "python",
   "nbconvert_exporter": "python",
   "pygments_lexer": "ipython3",
   "version": "3.6.8"
  }
 },
 "nbformat": 4,
 "nbformat_minor": 5
}
